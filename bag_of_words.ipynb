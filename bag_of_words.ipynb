{
 "cells": [
  {
   "cell_type": "markdown",
   "metadata": {},
   "source": [
    "## 词袋模型"
   ]
  },
  {
   "cell_type": "markdown",
   "metadata": {},
   "source": [
    "使用id映射的起因是因为 ，机器学习算法的输入都是数值，所以我们要把文本转化为数字送入网络。此时对应的数字仅代表分类，而不具有数值关系。\n",
    "同时，算法模型期望相同长度的语句，因此要将句子转化为一个稀疏向量。\n",
    "最开始的规则是：如果对应索引上的单词存在，则对应的索引位置的值为1。此方法的缺点是损失了句子中单词的顺序特征（也就是这个词出现了，则对应位置就为1，而与这个词出现在句子的哪个位置无关了）\n",
    "为解决上述问题，引入“词袋”嵌入。"
   ]
  },
  {
   "cell_type": "markdown",
   "metadata": {},
   "source": [
    "例子：使用“词袋”嵌入进行垃圾短信的预测。"
   ]
  },
  {
   "cell_type": "code",
   "execution_count": 1,
   "metadata": {},
   "outputs": [],
   "source": [
    "import tensorflow as tf\n",
    "import matplotlib.pyplot as plt\n",
    "import os\n",
    "import numpy as np\n",
    "import csv\n",
    "import string\n",
    "from tensorflow.contrib import learn\n",
    "import pandas as pd\n",
    "\n",
    "import warnings\n",
    "warnings.filterwarnings(\"ignore\")"
   ]
  },
  {
   "cell_type": "code",
   "execution_count": 30,
   "metadata": {},
   "outputs": [
    {
     "data": {
      "text/plain": [
       "([0.0, 0.0, 1.0, 0.0, 0.0, 1.0, 0.0, 0.0, 1.0, 1.0], float)"
      ]
     },
     "execution_count": 30,
     "metadata": {},
     "output_type": "execute_result"
    }
   ],
   "source": [
    "file_path = 'D:\\datasets\\smsspamcollection\\SMSSpamCollection'\n",
    "\n",
    "df = pd.read_csv(file_path, delimiter='\\t', header=None)# 用\\t分割，没有文件头\n",
    "\n",
    "# 生成文本和标签\n",
    "target, texts = df[0], df[1]\n",
    "target = [1.0 if x=='spam' else 0.0 for x in target]\n",
    "target[:10],type(target[0])"
   ]
  },
  {
   "cell_type": "markdown",
   "metadata": {},
   "source": [
    "2.对文本进行规则化处理，移除文本中大小写和数字的影响"
   ]
  },
  {
   "cell_type": "code",
   "execution_count": 3,
   "metadata": {},
   "outputs": [
    {
     "data": {
      "text/plain": [
       "'!\"#$%&\\'()*+,-./:;<=>?@[\\\\]^_`{|}~'"
      ]
     },
     "execution_count": 3,
     "metadata": {},
     "output_type": "execute_result"
    }
   ],
   "source": [
    "string.punctuation"
   ]
  },
  {
   "cell_type": "code",
   "execution_count": 4,
   "metadata": {},
   "outputs": [
    {
     "data": {
      "text/plain": [
       "['go until jurong point crazy available only in bugis n great world la e buffet cine there got amore wat',\n",
       " 'ok lar joking wif u oni',\n",
       " 'free entry in  a wkly comp to win fa cup final tkts st may  text fa to  to receive entry questionstd txt ratetcs apply overs',\n",
       " 'u dun say so early hor u c already then say',\n",
       " 'nah i dont think he goes to usf he lives around here though']"
      ]
     },
     "execution_count": 4,
     "metadata": {},
     "output_type": "execute_result"
    }
   ],
   "source": [
    "texts = [x.lower() for x in texts]\n",
    "# 去除标点\n",
    "texts = [''.join(c for c in x if c not in string.punctuation)for x in texts]\n",
    "# 去除数字\n",
    "texts = [''.join(c for c in x if c not in '1234567890')for x in texts]\n",
    "texts[:5]"
   ]
  },
  {
   "cell_type": "code",
   "execution_count": 5,
   "metadata": {},
   "outputs": [
    {
     "data": {
      "text/plain": [
       "['go until jurong point crazy available only in bugis n great world la e buffet cine there got amore wat',\n",
       " 'ok lar joking wif u oni',\n",
       " 'free entry in a wkly comp to win fa cup final tkts st may text fa to to receive entry questionstd txt ratetcs apply overs',\n",
       " 'u dun say so early hor u c already then say',\n",
       " 'nah i dont think he goes to usf he lives around here though']"
      ]
     },
     "execution_count": 5,
     "metadata": {},
     "output_type": "execute_result"
    }
   ],
   "source": [
    "# 去除多余空白？\n",
    "texts = [' '.join(x.split())for x in texts]\n",
    "texts[:5]"
   ]
  },
  {
   "cell_type": "markdown",
   "metadata": {},
   "source": [
    "3.计算最长句子的大小"
   ]
  },
  {
   "cell_type": "code",
   "execution_count": 6,
   "metadata": {},
   "outputs": [
    {
     "data": {
      "text/plain": [
       "Text(0.5, 1.0, 'histogram of words in texts')"
      ]
     },
     "execution_count": 6,
     "metadata": {},
     "output_type": "execute_result"
    },
    {
     "data": {
      "image/png": "[encoded data removed]",
      "text/plain": [
       "<Figure size 432x288 with 1 Axes>"
      ]
     },
     "metadata": {
      "needs_background": "light"
     },
     "output_type": "display_data"
    }
   ],
   "source": [
    "# 计算句子含有多少个单词，而不是句子字符串的长度\n",
    "text_lengths = [len(x.split()) for x in texts]\n",
    "text_lengths = [x for x in text_lengths if x <50]\n",
    "#bins是直方图柱子的个数，个数越多，划分的越细，柱子越多，那么数量每个柱子的数量可能就小了,normed=1是频率图，不加是频数图\n",
    "plt.hist(text_lengths,bins=25,normed=1,rwidth=0.7) \n",
    "plt.title('histogram of words in texts')"
   ]
  },
  {
   "cell_type": "code",
   "execution_count": 7,
   "metadata": {},
   "outputs": [
    {
     "name": "stdout",
     "output_type": "stream",
     "text": [
      "go until jurong point crazy available only in bugis n great world la e buffet cine there got amore wat\n",
      "['go', 'until', 'jurong', 'point', 'crazy', 'available', 'only', 'in', 'bugis', 'n', 'great', 'world', 'la', 'e', 'buffet', 'cine', 'there', 'got', 'amore', 'wat']\n",
      "102\n",
      "20\n"
     ]
    }
   ],
   "source": [
    "for x in texts[:1]:\n",
    "    print(x)\n",
    "    print(x.split())\n",
    "    print(len(x))\n",
    "    print(len(x.split()))"
   ]
  },
  {
   "cell_type": "markdown",
   "metadata": {},
   "source": [
    "使用tensorflow分词"
   ]
  },
  {
   "cell_type": "code",
   "execution_count": 8,
   "metadata": {},
   "outputs": [
    {
     "name": "stdout",
     "output_type": "stream",
     "text": [
      "WARNING:tensorflow:From <ipython-input-8-9f81cc81d9ee>:4: VocabularyProcessor.__init__ (from tensorflow.contrib.learn.python.learn.preprocessing.text) is deprecated and will be removed in a future version.\n",
      "Instructions for updating:\n",
      "Please use tensorflow/transform or tf.data.\n",
      "WARNING:tensorflow:From D:\\Programs\\Anaconda\\envs\\py36-tensorflow\\lib\\site-packages\\tensorflow\\contrib\\learn\\python\\learn\\preprocessing\\text.py:154: CategoricalVocabulary.__init__ (from tensorflow.contrib.learn.python.learn.preprocessing.categorical_vocabulary) is deprecated and will be removed in a future version.\n",
      "Instructions for updating:\n",
      "Please use tensorflow/transform or tf.data.\n",
      "WARNING:tensorflow:From D:\\Programs\\Anaconda\\envs\\py36-tensorflow\\lib\\site-packages\\tensorflow\\contrib\\learn\\python\\learn\\preprocessing\\text.py:170: tokenizer (from tensorflow.contrib.learn.python.learn.preprocessing.text) is deprecated and will be removed in a future version.\n",
      "Instructions for updating:\n",
      "Please use tensorflow/transform or tf.data.\n"
     ]
    },
    {
     "data": {
      "text/plain": [
       "2110"
      ]
     },
     "execution_count": 8,
     "metadata": {},
     "output_type": "execute_result"
    }
   ],
   "source": [
    "sentence_size = 25\n",
    "min_word_freq = 3\n",
    "\n",
    "vocab_processor = learn.preprocessing.VocabularyProcessor(sentence_size,min_frequency= min_word_freq)\n",
    "vocab_processor.fit_transform(texts)\n",
    "embedding_size = len(vocab_processor.vocabulary_)\n",
    "embedding_size"
   ]
  },
  {
   "cell_type": "markdown",
   "metadata": {},
   "source": [
    "分割训练集和测试集"
   ]
  },
  {
   "cell_type": "code",
   "execution_count": 9,
   "metadata": {},
   "outputs": [
    {
     "data": {
      "text/plain": [
       "array([2252,  721, 2540, 3414, 1802, 4867, 1077, 4097, 5240, 1097])"
      ]
     },
     "execution_count": 9,
     "metadata": {},
     "output_type": "execute_result"
    }
   ],
   "source": [
    "train_indices = np.random.choice(len(texts),round(len(texts)*0.8),replace=False)\n",
    "train_indices[:10]"
   ]
  },
  {
   "cell_type": "code",
   "execution_count": 10,
   "metadata": {},
   "outputs": [
    {
     "data": {
      "text/plain": [
       "array([   4, 4106,   11,   13, 2062,   15, 2064, 4110, 4115, 4117])"
      ]
     },
     "execution_count": 10,
     "metadata": {},
     "output_type": "execute_result"
    }
   ],
   "source": [
    "test_indices = np.array(list(set(range(len(texts)))-set(train_indices)))\n",
    "test_indices[:10]"
   ]
  },
  {
   "cell_type": "code",
   "execution_count": 11,
   "metadata": {},
   "outputs": [
    {
     "data": {
      "text/plain": [
       "(4458, 1114, 4458, 1114)"
      ]
     },
     "execution_count": 11,
     "metadata": {},
     "output_type": "execute_result"
    }
   ],
   "source": [
    "texts_train = [x for idx,x in enumerate(texts) if idx in train_indices]\n",
    "texts_test = [x for idx,x in enumerate(texts) if idx in test_indices]\n",
    "target_train = [x for idx,x in enumerate(target) if idx in train_indices]\n",
    "target_test = [x for idx,x in enumerate(target) if idx in test_indices]\n",
    "len(texts_train),len(texts_test),len(target_train),len(target_test)"
   ]
  },
  {
   "cell_type": "markdown",
   "metadata": {},
   "source": [
    "转化为词向量需要：\n",
    "1. 将句子单词转成索引\n",
    "2. 将索引转成one-hot向量，该向量为单位矩阵-->索引的时候可能有1、2、3，转换成one-hot就仅有0和1，索引数值所在位置为1，其余为0，所以每个单词是一行向量（embedding_size)，而每句话会是一个矩阵,有sentence_size行。\n",
    "3. 使用该矩阵为每个单词查找稀疏向量，并加入词稀疏向量"
   ]
  },
  {
   "cell_type": "markdown",
   "metadata": {},
   "source": [
    "首先，声明词嵌入矩阵"
   ]
  },
  {
   "cell_type": "code",
   "execution_count": 12,
   "metadata": {},
   "outputs": [
    {
     "data": {
      "text/plain": [
       "(<tf.Tensor 'ones:0' shape=(2110,) dtype=float32>,\n",
       " <tf.Tensor 'Diag:0' shape=(2110, 2110) dtype=float32>)"
      ]
     },
     "execution_count": 12,
     "metadata": {},
     "output_type": "execute_result"
    }
   ],
   "source": [
    "ones_mat = tf.ones(shape=[embedding_size])\n",
    "identity_mat = tf.diag(ones_mat)\n",
    "ones_mat,identity_mat"
   ]
  },
  {
   "cell_type": "code",
   "execution_count": 13,
   "metadata": {},
   "outputs": [
    {
     "name": "stdout",
     "output_type": "stream",
     "text": [
      "[[1. 0. 0. ... 0. 0. 0.]\n",
      " [0. 1. 0. ... 0. 0. 0.]\n",
      " [0. 0. 1. ... 0. 0. 0.]\n",
      " ...\n",
      " [0. 0. 0. ... 1. 0. 0.]\n",
      " [0. 0. 0. ... 0. 1. 0.]\n",
      " [0. 0. 0. ... 0. 0. 1.]]\n"
     ]
    }
   ],
   "source": [
    "with tf.Session() as sess:\n",
    "    print(sess.run(identity_mat))"
   ]
  },
  {
   "cell_type": "markdown",
   "metadata": {},
   "source": [
    "初始化占位符，并使用tf的嵌入查找函数来隐射句子中的单词为单位矩阵的one-hot向量"
   ]
  },
  {
   "cell_type": "code",
   "execution_count": 14,
   "metadata": {},
   "outputs": [
    {
     "data": {
      "text/plain": [
       "(<tf.Tensor 'Placeholder:0' shape=(25,) dtype=int32>,\n",
       " <tf.Tensor 'Placeholder_1:0' shape=(1, 1) dtype=float32>)"
      ]
     },
     "execution_count": 14,
     "metadata": {},
     "output_type": "execute_result"
    }
   ],
   "source": [
    "# x_data 被用来查找单位矩阵的索引，tf要求其为整数类型\n",
    "x_data = tf.placeholder(shape = [sentence_size],dtype=tf.int32)\n",
    "y_target = tf.placeholder(shape=[1,1],dtype=tf.float32)\n",
    "x_data,y_target"
   ]
  },
  {
   "cell_type": "code",
   "execution_count": 15,
   "metadata": {},
   "outputs": [
    {
     "data": {
      "text/plain": [
       "<tf.Tensor 'embedding_lookup/Identity:0' shape=(25, 2110) dtype=float32>"
      ]
     },
     "execution_count": 15,
     "metadata": {},
     "output_type": "execute_result"
    }
   ],
   "source": [
    "x_embed = tf.nn.embedding_lookup(identity_mat,x_data)\n",
    "x_embed"
   ]
  },
  {
   "cell_type": "markdown",
   "metadata": {},
   "source": [
    "为什么要把前面的向量求和？？--> "
   ]
  },
  {
   "cell_type": "code",
   "execution_count": 16,
   "metadata": {},
   "outputs": [
    {
     "data": {
      "text/plain": [
       "<tf.Tensor 'Sum:0' shape=(2110,) dtype=float32>"
      ]
     },
     "execution_count": 16,
     "metadata": {},
     "output_type": "execute_result"
    }
   ],
   "source": [
    "x_col_sums = tf.reduce_sum(x_embed,0)\n",
    "x_col_sums"
   ]
  },
  {
   "cell_type": "markdown",
   "metadata": {},
   "source": [
    "进行逻辑回归，首先声明变量和模型"
   ]
  },
  {
   "cell_type": "code",
   "execution_count": 27,
   "metadata": {},
   "outputs": [
    {
     "data": {
      "text/plain": [
       "(<tf.Variable 'Variable_2:0' shape=(2110, 1) dtype=float32_ref>,\n",
       " <tf.Variable 'Variable_3:0' shape=(1, 1) dtype=float32_ref>)"
      ]
     },
     "execution_count": 27,
     "metadata": {},
     "output_type": "execute_result"
    }
   ],
   "source": [
    "W = tf.Variable(tf.random_normal(shape = [embedding_size,1]))\n",
    "b = tf.Variable(tf.random_normal(shape=[1,1]))\n",
    "W,b"
   ]
  },
  {
   "cell_type": "code",
   "execution_count": 28,
   "metadata": {},
   "outputs": [
    {
     "data": {
      "text/plain": [
       "(<tf.Tensor 'ExpandDims_1:0' shape=(1, 2110) dtype=float32>,\n",
       " <tf.Tensor 'Add_1:0' shape=(1, 1) dtype=float32>)"
      ]
     },
     "execution_count": 28,
     "metadata": {},
     "output_type": "execute_result"
    }
   ],
   "source": [
    "x_col_sums_2D = tf.expand_dims(x_col_sums,0)\n",
    "model_output = tf.add(tf.matmul(x_col_sums_2D,W),b)\n",
    "x_col_sums_2D,model_output"
   ]
  },
  {
   "cell_type": "markdown",
   "metadata": {},
   "source": [
    "声明训练模型的损失函数、预测函数和优化器"
   ]
  },
  {
   "cell_type": "code",
   "execution_count": 19,
   "metadata": {},
   "outputs": [],
   "source": [
    "loss = tf.reduce_mean(tf.nn.sigmoid_cross_entropy_with_logits(logits=model_output,labels=y_target))\n",
    "prediction = tf.sigmoid(model_output)\n",
    "opt = tf.train.GradientDescentOptimizer(0.001)\n",
    "train_step = opt.minimize(loss)"
   ]
  },
  {
   "cell_type": "markdown",
   "metadata": {},
   "source": [
    "初始化计算图中的变量"
   ]
  },
  {
   "cell_type": "code",
   "execution_count": 20,
   "metadata": {},
   "outputs": [
    {
     "name": "stdout",
     "output_type": "stream",
     "text": [
      "WARNING:tensorflow:From D:\\Programs\\Anaconda\\envs\\py36-tensorflow\\lib\\site-packages\\tensorflow\\python\\util\\tf_should_use.py:189: initialize_all_variables (from tensorflow.python.ops.variables) is deprecated and will be removed after 2017-03-02.\n",
      "Instructions for updating:\n",
      "Use `tf.global_variables_initializer` instead.\n"
     ]
    }
   ],
   "source": [
    "init = tf.initialize_all_variables()\n",
    "sess = tf.Session()\n",
    "sess.run(init)"
   ]
  },
  {
   "cell_type": "markdown",
   "metadata": {},
   "source": [
    "开始迭代训练 没有写epoch为什么就训练4400代就自己停止了？？ -->不是4400代！是一代！然后4400+个单词，每个单词训练一次"
   ]
  },
  {
   "cell_type": "code",
   "execution_count": 26,
   "metadata": {},
   "outputs": [
    {
     "name": "stdout",
     "output_type": "stream",
     "text": [
      "training epoch # 0 : acc = 0.8530731269627636\n",
      "training epoch # 1 : acc = 0.8534096007178107\n",
      "training epoch # 2 : acc = 0.8538956183639899\n",
      "training epoch # 3 : acc = 0.8545872588604756\n",
      "training epoch # 4 : acc = 0.8551368326603859\n",
      "training epoch # 5 : acc = 0.8556901450575743\n",
      "training epoch # 6 : acc = 0.8561815035570083\n",
      "training epoch # 7 : acc = 0.8565500224315836\n",
      "training epoch # 8 : acc = 0.8569363441503415\n",
      "training epoch # 9 : acc = 0.857335127860027\n"
     ]
    }
   ],
   "source": [
    "loss_vec,train_acc_all,train_acc_avg = [],[],[]\n",
    "for i in range(10):\n",
    "    for idx,t in enumerate(vocab_processor.fit_transform(texts_train)):\n",
    "        sess.run(train_step,feed_dict = {x_data:t,y_target:y})\n",
    "        temp_loss = sess.run(loss,feed_dict={x_data:t,y_target:y})\n",
    "        loss_vec.append(temp_loss)\n",
    "        # 预测结果\n",
    "        [[temp_pred]]=sess.run(prediction,feed_dict={x_data:t,y_target:y})\n",
    "        #判断预测结果是否正确\n",
    "        train_acc_temp = target_train[idx]==np.round(temp_pred)\n",
    "        train_acc_all.append(train_acc_temp)\n",
    "    train_acc_avg = np.mean(train_acc_all)\n",
    "    print(\"training epoch # %s : acc = %s\"%(str(i),train_acc_avg))"
   ]
  },
  {
   "cell_type": "markdown",
   "metadata": {},
   "source": [
    "一个非常简单、基础的词袋模型，不考虑单词的位置、权重等信息，单纯靠句子中出现过哪些单词（词袋中的单词）来进行映射，并进行one-hot稀疏编码。\n",
    "通过embedding_lookup对应一个句子（长度25）的编码矩阵（25*2110），通过行相加，得到句子的编码（2110）\n",
    "通过句子编码(2110,1)*W(1,2110)+b(1,1)= (1,1)训练W和b。\n",
    "没有经过网络层光通过embedding层竟然能达到85%的准确率。参考资料说是因为长度25的限定，限定的好？"
   ]
  },
  {
   "cell_type": "code",
   "execution_count": null,
   "metadata": {},
   "outputs": [],
   "source": []
  }
 ],
 "metadata": {
  "kernelspec": {
   "display_name": "py36-tensorflow",
   "language": "python",
   "name": "py36-tensorflow"
  },
  "language_info": {
   "codemirror_mode": {
    "name": "ipython",
    "version": 3
   },
   "file_extension": ".py",
   "mimetype": "text/x-python",
   "name": "python",
   "nbconvert_exporter": "python",
   "pygments_lexer": "ipython3",
   "version": "3.6.9"
  }
 },
 "nbformat": 4,
 "nbformat_minor": 2
}
